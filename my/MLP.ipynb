{
 "cells": [
  {
   "cell_type": "code",
   "execution_count": 1,
   "metadata": {},
   "outputs": [],
   "source": [
    "import numpy as np\n",
    "import random\n",
    "import torch\n",
    "import time\n",
    "from IPython import display\n"
   ]
  },
  {
   "cell_type": "code",
   "execution_count": 2,
   "metadata": {},
   "outputs": [
    {
     "data": {
      "text/plain": [
       "tensor([[ 0.6466],\n",
       "        [-0.1302],\n",
       "        [-1.1333],\n",
       "        [ 0.2560],\n",
       "        [-0.2689],\n",
       "        [ 0.4769],\n",
       "        [ 0.0179],\n",
       "        [-1.0752],\n",
       "        [ 0.6738],\n",
       "        [ 0.0408],\n",
       "        [ 0.2010],\n",
       "        [ 0.1392],\n",
       "        [-0.0608],\n",
       "        [ 0.7192],\n",
       "        [ 0.0667],\n",
       "        [-1.9942],\n",
       "        [ 0.4007],\n",
       "        [ 0.0034],\n",
       "        [ 0.3579],\n",
       "        [-0.6985],\n",
       "        [-0.7581],\n",
       "        [-0.2986],\n",
       "        [ 0.2895],\n",
       "        [ 0.0908],\n",
       "        [-1.4907],\n",
       "        [ 0.9074],\n",
       "        [-0.4928],\n",
       "        [ 0.4317],\n",
       "        [ 2.2595],\n",
       "        [ 1.1913],\n",
       "        [-0.1240],\n",
       "        [ 0.9349],\n",
       "        [ 0.5320],\n",
       "        [ 0.9069],\n",
       "        [ 0.5821],\n",
       "        [ 1.6187],\n",
       "        [ 0.7636],\n",
       "        [ 0.1240],\n",
       "        [-1.1464],\n",
       "        [ 0.6616],\n",
       "        [-0.3258],\n",
       "        [ 0.2482],\n",
       "        [ 0.3651],\n",
       "        [-0.1869],\n",
       "        [-1.8132],\n",
       "        [-0.0823],\n",
       "        [ 0.9119],\n",
       "        [ 1.3214],\n",
       "        [ 1.0038],\n",
       "        [-0.4499],\n",
       "        [ 0.7440],\n",
       "        [ 1.4760],\n",
       "        [ 0.9542],\n",
       "        [ 0.4247],\n",
       "        [ 0.1585],\n",
       "        [ 0.8140],\n",
       "        [-0.1869],\n",
       "        [ 0.0834],\n",
       "        [ 0.7260],\n",
       "        [ 0.7084],\n",
       "        [-0.8672],\n",
       "        [-0.8777],\n",
       "        [-0.4401],\n",
       "        [ 1.4806],\n",
       "        [ 2.0258],\n",
       "        [-0.8793],\n",
       "        [-1.0457],\n",
       "        [-0.1101],\n",
       "        [-0.8542],\n",
       "        [-0.4372],\n",
       "        [ 0.7464],\n",
       "        [ 1.3999],\n",
       "        [-0.3762],\n",
       "        [ 0.6463],\n",
       "        [ 2.0039],\n",
       "        [ 2.3352],\n",
       "        [ 0.9195],\n",
       "        [-1.1096],\n",
       "        [ 0.0840],\n",
       "        [-1.3262],\n",
       "        [-0.9979],\n",
       "        [-0.0376],\n",
       "        [ 0.6301],\n",
       "        [ 0.0863],\n",
       "        [-0.0765],\n",
       "        [ 1.4810],\n",
       "        [ 0.4390],\n",
       "        [ 0.0917],\n",
       "        [ 0.8259],\n",
       "        [ 1.2765],\n",
       "        [-0.0745],\n",
       "        [-1.0216],\n",
       "        [ 1.7228],\n",
       "        [-0.0895],\n",
       "        [ 0.2761],\n",
       "        [-0.0589],\n",
       "        [-0.4092],\n",
       "        [-0.2168],\n",
       "        [ 0.1955],\n",
       "        [-0.2412]])"
      ]
     },
     "execution_count": 2,
     "metadata": {},
     "output_type": "execute_result"
    }
   ],
   "source": [
    "data_x = torch.randn( 100, 1)\n",
    "data_x"
   ]
  },
  {
   "cell_type": "code",
   "execution_count": 3,
   "metadata": {},
   "outputs": [
    {
     "data": {
      "text/plain": [
       "tensor([[ -6.7668],\n",
       "        [-10.6508],\n",
       "        [-15.6667],\n",
       "        [ -8.7202],\n",
       "        [-11.3444],\n",
       "        [ -7.6156],\n",
       "        [ -9.9106],\n",
       "        [-15.3761],\n",
       "        [ -6.6308],\n",
       "        [ -9.7958],\n",
       "        [ -8.9951],\n",
       "        [ -9.3040],\n",
       "        [-10.3042],\n",
       "        [ -6.4038],\n",
       "        [ -9.6664],\n",
       "        [-19.9710],\n",
       "        [ -7.9965],\n",
       "        [ -9.9832],\n",
       "        [ -8.2106],\n",
       "        [-13.4924],\n",
       "        [-13.7907],\n",
       "        [-11.4931],\n",
       "        [ -8.5527],\n",
       "        [ -9.5462],\n",
       "        [-17.4533],\n",
       "        [ -5.4630],\n",
       "        [-12.4641],\n",
       "        [ -7.8415],\n",
       "        [  1.2973],\n",
       "        [ -4.0435],\n",
       "        [-10.6201],\n",
       "        [ -5.3254],\n",
       "        [ -7.3401],\n",
       "        [ -5.4657],\n",
       "        [ -7.0894],\n",
       "        [ -1.9065],\n",
       "        [ -6.1818],\n",
       "        [ -9.3799],\n",
       "        [-15.7318],\n",
       "        [ -6.6920],\n",
       "        [-11.6290],\n",
       "        [ -8.7591],\n",
       "        [ -8.1743],\n",
       "        [-10.9344],\n",
       "        [-19.0660],\n",
       "        [-10.4116],\n",
       "        [ -5.4406],\n",
       "        [ -3.3929],\n",
       "        [ -4.9810],\n",
       "        [-12.2497],\n",
       "        [ -6.2801],\n",
       "        [ -2.6200],\n",
       "        [ -5.2289],\n",
       "        [ -7.8767],\n",
       "        [ -9.2073],\n",
       "        [ -5.9302],\n",
       "        [-10.9344],\n",
       "        [ -9.5829],\n",
       "        [ -6.3702],\n",
       "        [ -6.4580],\n",
       "        [-14.3359],\n",
       "        [-14.3887],\n",
       "        [-12.2007],\n",
       "        [ -2.5972],\n",
       "        [  0.1289],\n",
       "        [-14.3967],\n",
       "        [-15.2283],\n",
       "        [-10.5504],\n",
       "        [-14.2712],\n",
       "        [-12.1862],\n",
       "        [ -6.2678],\n",
       "        [ -3.0007],\n",
       "        [-11.8812],\n",
       "        [ -6.7685],\n",
       "        [  0.0193],\n",
       "        [  1.6758],\n",
       "        [ -5.4024],\n",
       "        [-15.5478],\n",
       "        [ -9.5801],\n",
       "        [-16.6311],\n",
       "        [-14.9894],\n",
       "        [-10.1880],\n",
       "        [ -6.8493],\n",
       "        [ -9.5683],\n",
       "        [-10.3824],\n",
       "        [ -2.5952],\n",
       "        [ -7.8049],\n",
       "        [ -9.5416],\n",
       "        [ -5.8703],\n",
       "        [ -3.6176],\n",
       "        [-10.3725],\n",
       "        [-15.1080],\n",
       "        [ -1.3862],\n",
       "        [-10.4475],\n",
       "        [ -8.6196],\n",
       "        [-10.2945],\n",
       "        [-12.0460],\n",
       "        [-11.0840],\n",
       "        [ -9.0226],\n",
       "        [-11.2059]])"
      ]
     },
     "execution_count": 3,
     "metadata": {},
     "output_type": "execute_result"
    }
   ],
   "source": [
    "data_y = data_x *5 - 10\n",
    "data_y"
   ]
  },
  {
   "cell_type": "code",
   "execution_count": 4,
   "metadata": {},
   "outputs": [
    {
     "data": {
      "text/plain": [
       "[<matplotlib.lines.Line2D at 0x7fe97d4c4630>]"
      ]
     },
     "execution_count": 4,
     "metadata": {},
     "output_type": "execute_result"
    },
    {
     "data": {
      "image/png": "[encoded data removed]",
      "text/plain": [
       "<Figure size 432x288 with 1 Axes>"
      ]
     },
     "metadata": {},
     "output_type": "display_data"
    }
   ],
   "source": [
    "import matplotlib\n",
    "matplotlib.use('nbagg')\n",
    "import matplotlib.pyplot as plt\n",
    "%matplotlib inline\n",
    "plt.plot(data_x.numpy(), data_y.numpy())"
   ]
  },
  {
   "cell_type": "code",
   "execution_count": 5,
   "metadata": {},
   "outputs": [],
   "source": [
    "import torch\n",
    "import torch.nn as nn\n",
    "from torch import optim\n",
    "import torch.nn.functional as F"
   ]
  },
  {
   "cell_type": "code",
   "execution_count": 6,
   "metadata": {},
   "outputs": [],
   "source": [
    "model = nn.Sequential(\n",
    "    torch.nn.Linear(1, 10),\n",
    "    torch.nn.ReLU(),\n",
    "    torch.nn.Linear(10, 1)\n",
    ")\n",
    "loss_fn = nn.MSELoss()\n",
    "optimizer = optim.SGD(model.parameters(), lr=1e-4)"
   ]
  },
  {
   "cell_type": "code",
   "execution_count": 7,
   "metadata": {},
   "outputs": [
    {
     "name": "stdout",
     "output_type": "stream",
     "text": [
      "tensor(98.7682, grad_fn=<MseLossBackward>)\n",
      "tensor(87.3507, grad_fn=<MseLossBackward>)\n",
      "tensor(76.7089, grad_fn=<MseLossBackward>)\n",
      "tensor(66.3117, grad_fn=<MseLossBackward>)\n",
      "tensor(56.0307, grad_fn=<MseLossBackward>)\n",
      "tensor(46.0279, grad_fn=<MseLossBackward>)\n",
      "tensor(36.6575, grad_fn=<MseLossBackward>)\n",
      "tensor(28.3190, grad_fn=<MseLossBackward>)\n",
      "tensor(21.3146, grad_fn=<MseLossBackward>)\n",
      "tensor(15.7582, grad_fn=<MseLossBackward>)\n"
     ]
    },
    {
     "data": {
      "image/png": "[encoded data removed]",
      "text/plain": [
       "<Figure size 432x288 with 1 Axes>"
      ]
     },
     "metadata": {},
     "output_type": "display_data"
    }
   ],
   "source": [
    "for t in range(1000):\n",
    "        y_pred = model(data_x)\n",
    "\n",
    "        loss = loss_fn(y_pred, data_y)\n",
    "        optimizer.zero_grad()\n",
    "        loss.backward()\n",
    "        optimizer.step()\n",
    "        if t % 100 == 0:\n",
    "            plt.plot(data_x.numpy()\n",
    ", y_pred.detach().numpy(), 'r:', data_x.numpy(), data_y.numpy(), 'b-')\n",
    "#             display.clear_output(wait=True)\n",
    "#             display.display(plt.gcf())\n",
    "#             time.sleep(0.01)\n",
    "            print(loss)"
   ]
  },
  {
   "cell_type": "code",
   "execution_count": 8,
   "metadata": {},
   "outputs": [],
   "source": [
    "def test_model(num):\n",
    "    t1 = torch.tensor(num).view(-1,1)\n",
    "    t2 = model(t1)\n",
    "    return t2"
   ]
  },
  {
   "cell_type": "code",
   "execution_count": 9,
   "metadata": {},
   "outputs": [
    {
     "data": {
      "text/plain": [
       "[<matplotlib.lines.Line2D at 0x7fe97c412128>,\n",
       " <matplotlib.lines.Line2D at 0x7fe97c4122b0>]"
      ]
     },
     "execution_count": 9,
     "metadata": {},
     "output_type": "execute_result"
    },
    {
     "data": {
      "image/png": "[encoded data removed]",
      "text/plain": [
       "<Figure size 432x288 with 1 Axes>"
      ]
     },
     "metadata": {},
     "output_type": "display_data"
    }
   ],
   "source": [
    "y_pred = model(data_x)\n",
    "loss = loss_fn(y_pred, data_y)\n",
    "plt.plot(data_x.numpy() , y_pred.detach().numpy(), 'r:', data_x.numpy(), data_y.numpy(), 'b-')"
   ]
  },
  {
   "cell_type": "code",
   "execution_count": 10,
   "metadata": {},
   "outputs": [
    {
     "data": {
      "text/plain": [
       "<Figure size 432x288 with 0 Axes>"
      ]
     },
     "metadata": {},
     "output_type": "display_data"
    },
    {
     "data": {
      "text/plain": [
       "<Figure size 432x288 with 0 Axes>"
      ]
     },
     "metadata": {},
     "output_type": "display_data"
    }
   ],
   "source": [
    "import random\n",
    "import numpy as np\n",
    "import matplotlib\n",
    "import matplotlib.pyplot as plt\n",
    "%matplotlib inline\n",
    "\n",
    "# set up matplotlib\n",
    "is_ipython = 'inline' in matplotlib.get_backend()\n",
    "if is_ipython:\n",
    "    from IPython import display\n",
    "\n",
    "plt.ion()\n",
    "\n",
    "def plot_durations(y):\n",
    "    plt.figure(2)\n",
    "    plt.clf()\n",
    "    plt.subplot(211)\n",
    "    plt.plot(y[:,0])\n",
    "    plt.subplot(212)\n",
    "    plt.plot(y[:,1])\n",
    "\n",
    "    plt.pause(0.01)  # pause a bit so that plots are updated\n",
    "    if is_ipython:\n",
    "        display.clear_output(wait=True)\n",
    "        display.display(plt.gcf())\n",
    "\n",
    "\n",
    "\n",
    "x = np.linspace(-10,10,500)\n",
    "y = []\n",
    "for i in range(len(x)):\n",
    "    y1 = np.cos(i/(3*3.14))\n",
    "    y2 = np.sin(i/(3*3.14))\n",
    "    y.append(np.array([y1,y2]))\n",
    "    plot_durations(np.array(y))"
   ]
  },
  {
   "cell_type": "code",
   "execution_count": null,
   "metadata": {},
   "outputs": [],
   "source": []
  }
 ],
 "metadata": {
  "kernelspec": {
   "display_name": "Python 3",
   "language": "python",
   "name": "python3"
  },
  "language_info": {
   "codemirror_mode": {
    "name": "ipython",
    "version": 3
   },
   "file_extension": ".py",
   "mimetype": "text/x-python",
   "name": "python",
   "nbconvert_exporter": "python",
   "pygments_lexer": "ipython3",
   "version": "3.5.2"
  }
 },
 "nbformat": 4,
 "nbformat_minor": 2
}
